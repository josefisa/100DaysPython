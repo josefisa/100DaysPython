{
 "cells": [
  {
   "cell_type": "code",
   "execution_count": 2,
   "metadata": {},
   "outputs": [
    {
     "name": "stdout",
     "output_type": "stream",
     "text": [
      "Numbers contained in both lists are:\n",
      "['3', '6', '5', '33', '12', '7', '4', '1']\n"
     ]
    }
   ],
   "source": [
    "with open(\"file1.txt\") as text1:\n",
    "    num_file1 = [line[:-1] for line in text1]\n",
    "    with open(\"file2.txt\") as text2:\n",
    "        #[numbers.append(line[:-1]) for line in text2] \n",
    "        ##In case I want to add to each item.\n",
    "        num_file2 = [line[:-1] for line in text2]\n",
    "result = [num for num in num_file1 if (num in num_file2)]\n",
    "print(\"Numbers contained in both lists are:\")\n",
    "print(result)"
   ]
  },
  {
   "cell_type": "code",
   "execution_count": 3,
   "metadata": {},
   "outputs": [
    {
     "name": "stdout",
     "output_type": "stream",
     "text": [
      "[1, 2, 3, 4, 5, 6, 7, 8, 9, 10, 11, 12, 13, 14]\n",
      "[2, 3, 4, 5, 6, 7, 8, 9, 10, 11, 12, 13, 14, 15]\n"
     ]
    }
   ],
   "source": [
    "# LIST COMPREHENSION EXERCISE...\n",
    "\n",
    "numbers = [n for n in range(1,15)]\n",
    "print(numbers)\n",
    "\n",
    "new_list = [(n+1) for n in numbers]\n",
    "print(new_list)"
   ]
  },
  {
   "cell_type": "code",
   "execution_count": 4,
   "metadata": {},
   "outputs": [
    {
     "name": "stdout",
     "output_type": "stream",
     "text": [
      "{'Alex': 37, 'Laura': 25, 'Sofia': 77, 'Camila': 45, 'Alberto': 1, 'Julio': 95, 'Jacinto': 87, 'Pablo': 76, 'Mayrovis': 28}\n",
      "{'Sofia': 77, 'Julio': 95, 'Jacinto': 87, 'Pablo': 76}\n"
     ]
    }
   ],
   "source": [
    "# Ejercicio de Estudiantes:\n",
    "import random\n",
    "names = ['Alex','Laura','Sofia','Camila','Alberto','Julio','Jacinto','Pablo','Mayrovis']\n",
    "\n",
    "new_dict = {student:random.randint(1,100) for student in names}\n",
    "print(new_dict)\n",
    "\n",
    "passed_guys = {student:grades for (student,grades) in new_dict.items() if grades>75}\n",
    "print(passed_guys)"
   ]
  },
  {
   "cell_type": "code",
   "execution_count": 5,
   "metadata": {},
   "outputs": [
    {
     "name": "stdout",
     "output_type": "stream",
     "text": [
      "['What', 'is', 'the', 'Airspeed', 'Velocity', 'of', 'an', 'Unladen', 'Swallow?']\n",
      "{'What': 4, 'is': 2, 'the': 3, 'Airspeed': 8, 'Velocity': 8, 'of': 2, 'an': 2, 'Unladen': 7, 'Swallow?': 8}\n"
     ]
    }
   ],
   "source": [
    "sentence = \"What is the Airspeed Velocity of an Unladen Swallow?\"\n",
    "list = sentence.split()\n",
    "result = {word:len(word) for word in list}\n",
    "print(list)\n",
    "print(result)"
   ]
  },
  {
   "cell_type": "code",
   "execution_count": 6,
   "metadata": {},
   "outputs": [
    {
     "name": "stdout",
     "output_type": "stream",
     "text": [
      "{'Monday': 53.6, 'Tuesday': 57.2, 'Wednesday': 59.0, 'Thursday': 57.2, 'Friday': 69.8, 'Saturday': 71.6, 'Sunday': 75.2}\n"
     ]
    }
   ],
   "source": [
    "weather_c = {\"Monday\": 12, \"Tuesday\": 14, \"Wednesday\": 15, \"Thursday\": 14, \"Friday\": 21, \"Saturday\": 22, \"Sunday\": 24}\n",
    "\n",
    "weather_f = {day:round((temp_c*(9/5) + 32),1) for (day,temp_c) in weather_c.items()}\n",
    "\n",
    "print(weather_f)"
   ]
  },
  {
   "cell_type": "code",
   "execution_count": 7,
   "metadata": {},
   "outputs": [
    {
     "name": "stdout",
     "output_type": "stream",
     "text": [
      "  student  score\n",
      "0  Angela     56\n",
      "1   James     76\n",
      "2    Lily     98\n"
     ]
    }
   ],
   "source": [
    "import pandas\n",
    "\n",
    "student_dict = {\n",
    "    \"student\": [\"Angela\",\"James\",\"Lily\"],\n",
    "    \"score\": [56, 76, 98]\n",
    "}\n",
    "\n",
    "student_data_frame = pandas.DataFrame(student_dict)\n",
    "print(student_data_frame)"
   ]
  },
  {
   "cell_type": "code",
   "execution_count": 19,
   "metadata": {},
   "outputs": [
    {
     "name": "stdout",
     "output_type": "stream",
     "text": [
      "56\n",
      "76\n",
      "98\n"
     ]
    }
   ],
   "source": [
    "for (index, row) in student_data_frame.iterrows():\n",
    "    print(row.score)"
   ]
  },
  {
   "cell_type": "code",
   "execution_count": 4,
   "metadata": {},
   "outputs": [
    {
     "name": "stdout",
     "output_type": "stream",
     "text": [
      "['2', 'P']\n"
     ]
    }
   ],
   "source": [
    "my_list = ['A','2','P','4','6','R','6','DUV','8']\n",
    "\n",
    "print(my_list[1:3])\n"
   ]
  },
  {
   "cell_type": "code",
   "execution_count": 6,
   "metadata": {},
   "outputs": [
    {
     "name": "stdout",
     "output_type": "stream",
     "text": [
      "4 9 12\n"
     ]
    }
   ],
   "source": [
    "def foo(a, b=4, c=12):\n",
    "    print(a,b,c)\n",
    "    \n",
    "foo(4,9)"
   ]
  },
  {
   "cell_type": "code",
   "execution_count": 7,
   "metadata": {},
   "outputs": [
    {
     "name": "stdout",
     "output_type": "stream",
     "text": [
      "4 (7, 3, 0) {'x': 10, 'y': 64}\n"
     ]
    }
   ],
   "source": [
    "def all_aboard(a, *args, **kw): \n",
    "    print(a, args, kw)\n",
    " \n",
    "all_aboard(4, 7, 3, 0, x=10, y=64)"
   ]
  },
  {
   "cell_type": "code",
   "execution_count": 8,
   "metadata": {},
   "outputs": [
    {
     "name": "stdout",
     "output_type": "stream",
     "text": [
      "[10, 10, 10, 10, 10, 10, 10, 10, 10]\n",
      "[10, 10, 10, 10, 10, 10, 'y', 10, 10]\n"
     ]
    }
   ],
   "source": [
    "ruta = [9+1]*9\n",
    "print(ruta)\n",
    "ruta[6] = 'y'\n",
    "print(ruta)"
   ]
  },
  {
   "cell_type": "code",
   "execution_count": 12,
   "metadata": {},
   "outputs": [
    {
     "name": "stdout",
     "output_type": "stream",
     "text": [
      "10\n",
      "10\n",
      "10\n",
      "10\n",
      "10\n",
      "10\n",
      "y\n",
      "10\n",
      "10\n"
     ]
    }
   ],
   "source": [
    "for i in ruta:\n",
    "    print(i)"
   ]
  },
  {
   "cell_type": "code",
   "execution_count": null,
   "metadata": {},
   "outputs": [],
   "source": [
    "# Driver's code\n",
    "if __name__ == \"__main__\":\n",
    "    initial = 0\n",
    "    final = 8\n",
    "    g = Graph(9)\n",
    "    g.graph = [[0, 4, 0, 0, 0, 0, 0, 8, 0],\n",
    "               [4, 0, 8, 0, 0, 0, 0, 11, 0],\n",
    "               [0, 8, 0, 7, 0, 4, 0, 0, 2],\n",
    "               [0, 0, 7, 0, 9, 14, 0, 0, 0],\n",
    "               [0, 0, 0, 9, 0, 10, 0, 0, 0],\n",
    "               [0, 0, 4, 14, 10, 0, 2, 0, 0],\n",
    "               [0, 0, 0, 0, 0, 2, 0, 1, 6],\n",
    "               [8, 11, 0, 0, 0, 0, 1, 0, 7],\n",
    "               [0, 0, 2, 0, 0, 0, 6, 7, 0]\n",
    "               ]\n",
    "\n",
    "    camino = g.dijkstra(initial,final)\n",
    "    print(camino)"
   ]
  },
  {
   "cell_type": "code",
   "execution_count": 1,
   "metadata": {},
   "outputs": [
    {
     "data": {
      "text/html": [
       "<div style=\"width:100%;\"><div style=\"position:relative;width:100%;height:0;padding-bottom:60%;\"><span style=\"color:#565656\">Make this Notebook Trusted to load map: File -> Trust Notebook</span><iframe srcdoc=\"&lt;!DOCTYPE html&gt;\n",
       "&lt;html&gt;\n",
       "&lt;head&gt;\n",
       "    \n",
       "    &lt;meta http-equiv=&quot;content-type&quot; content=&quot;text/html; charset=UTF-8&quot; /&gt;\n",
       "    \n",
       "        &lt;script&gt;\n",
       "            L_NO_TOUCH = false;\n",
       "            L_DISABLE_3D = false;\n",
       "        &lt;/script&gt;\n",
       "    \n",
       "    &lt;style&gt;html, body {width: 100%;height: 100%;margin: 0;padding: 0;}&lt;/style&gt;\n",
       "    &lt;style&gt;#map {position:absolute;top:0;bottom:0;right:0;left:0;}&lt;/style&gt;\n",
       "    &lt;script src=&quot;https://cdn.jsdelivr.net/npm/leaflet@1.9.3/dist/leaflet.js&quot;&gt;&lt;/script&gt;\n",
       "    &lt;script src=&quot;https://code.jquery.com/jquery-3.7.1.min.js&quot;&gt;&lt;/script&gt;\n",
       "    &lt;script src=&quot;https://cdn.jsdelivr.net/npm/bootstrap@5.2.2/dist/js/bootstrap.bundle.min.js&quot;&gt;&lt;/script&gt;\n",
       "    &lt;script src=&quot;https://cdnjs.cloudflare.com/ajax/libs/Leaflet.awesome-markers/2.0.2/leaflet.awesome-markers.js&quot;&gt;&lt;/script&gt;\n",
       "    &lt;link rel=&quot;stylesheet&quot; href=&quot;https://cdn.jsdelivr.net/npm/leaflet@1.9.3/dist/leaflet.css&quot;/&gt;\n",
       "    &lt;link rel=&quot;stylesheet&quot; href=&quot;https://cdn.jsdelivr.net/npm/bootstrap@5.2.2/dist/css/bootstrap.min.css&quot;/&gt;\n",
       "    &lt;link rel=&quot;stylesheet&quot; href=&quot;https://netdna.bootstrapcdn.com/bootstrap/3.0.0/css/bootstrap-glyphicons.css&quot;/&gt;\n",
       "    &lt;link rel=&quot;stylesheet&quot; href=&quot;https://cdn.jsdelivr.net/npm/@fortawesome/fontawesome-free@6.2.0/css/all.min.css&quot;/&gt;\n",
       "    &lt;link rel=&quot;stylesheet&quot; href=&quot;https://cdnjs.cloudflare.com/ajax/libs/Leaflet.awesome-markers/2.0.2/leaflet.awesome-markers.css&quot;/&gt;\n",
       "    &lt;link rel=&quot;stylesheet&quot; href=&quot;https://cdn.jsdelivr.net/gh/python-visualization/folium/folium/templates/leaflet.awesome.rotate.min.css&quot;/&gt;\n",
       "    \n",
       "            &lt;meta name=&quot;viewport&quot; content=&quot;width=device-width,\n",
       "                initial-scale=1.0, maximum-scale=1.0, user-scalable=no&quot; /&gt;\n",
       "            &lt;style&gt;\n",
       "                #map_bfa6224b4693e22a02f6aa98841ba7e5 {\n",
       "                    position: relative;\n",
       "                    width: 100.0%;\n",
       "                    height: 100.0%;\n",
       "                    left: 0.0%;\n",
       "                    top: 0.0%;\n",
       "                }\n",
       "                .leaflet-container { font-size: 1rem; }\n",
       "            &lt;/style&gt;\n",
       "        \n",
       "&lt;/head&gt;\n",
       "&lt;body&gt;\n",
       "    \n",
       "    \n",
       "            &lt;div class=&quot;folium-map&quot; id=&quot;map_bfa6224b4693e22a02f6aa98841ba7e5&quot; &gt;&lt;/div&gt;\n",
       "        \n",
       "&lt;/body&gt;\n",
       "&lt;script&gt;\n",
       "    \n",
       "    \n",
       "            var map_bfa6224b4693e22a02f6aa98841ba7e5 = L.map(\n",
       "                &quot;map_bfa6224b4693e22a02f6aa98841ba7e5&quot;,\n",
       "                {\n",
       "                    center: [35.6762, 139.6503],\n",
       "                    crs: L.CRS.EPSG3857,\n",
       "                    zoom: 16,\n",
       "                    zoomControl: true,\n",
       "                    preferCanvas: false,\n",
       "                }\n",
       "            );\n",
       "\n",
       "            \n",
       "\n",
       "        \n",
       "    \n",
       "            var tile_layer_49bb1716885039f877bcad939c0fdfce = L.tileLayer(\n",
       "                &quot;https://tile.openstreetmap.org/{z}/{x}/{y}.png&quot;,\n",
       "                {&quot;attribution&quot;: &quot;\\u0026copy; \\u003ca href=\\&quot;https://www.openstreetmap.org/copyright\\&quot;\\u003eOpenStreetMap\\u003c/a\\u003e contributors&quot;, &quot;detectRetina&quot;: false, &quot;maxNativeZoom&quot;: 19, &quot;maxZoom&quot;: 19, &quot;minZoom&quot;: 0, &quot;noWrap&quot;: false, &quot;opacity&quot;: 1, &quot;subdomains&quot;: &quot;abc&quot;, &quot;tms&quot;: false}\n",
       "            );\n",
       "        \n",
       "    \n",
       "            tile_layer_49bb1716885039f877bcad939c0fdfce.addTo(map_bfa6224b4693e22a02f6aa98841ba7e5);\n",
       "        \n",
       "    \n",
       "            var marker_33cf14fabc2abf9b6b8ca12631942d61 = L.marker(\n",
       "                [35.6762, 139.6503],\n",
       "                {}\n",
       "            ).addTo(map_bfa6224b4693e22a02f6aa98841ba7e5);\n",
       "        \n",
       "    \n",
       "            var icon_9010017a51009c6490b195412991711f = L.AwesomeMarkers.icon(\n",
       "                {&quot;extraClasses&quot;: &quot;fa-rotate-0&quot;, &quot;icon&quot;: &quot;info-sing&quot;, &quot;iconColor&quot;: &quot;white&quot;, &quot;markerColor&quot;: &quot;blue&quot;, &quot;prefix&quot;: &quot;glyphicon&quot;}\n",
       "            );\n",
       "            marker_33cf14fabc2abf9b6b8ca12631942d61.setIcon(icon_9010017a51009c6490b195412991711f);\n",
       "        \n",
       "    \n",
       "        var popup_ffcec96c6ebdff8cd33c6574ae24e542 = L.popup({&quot;maxWidth&quot;: &quot;100%&quot;});\n",
       "\n",
       "        \n",
       "            \n",
       "                var html_540f9af5ad5a031abbdbfef1899a5786 = $(`&lt;div id=&quot;html_540f9af5ad5a031abbdbfef1899a5786&quot; style=&quot;width: 100.0%; height: 100.0%;&quot;&gt;Tokoyo&lt;/div&gt;`)[0];\n",
       "                popup_ffcec96c6ebdff8cd33c6574ae24e542.setContent(html_540f9af5ad5a031abbdbfef1899a5786);\n",
       "            \n",
       "        \n",
       "\n",
       "        marker_33cf14fabc2abf9b6b8ca12631942d61.bindPopup(popup_ffcec96c6ebdff8cd33c6574ae24e542)\n",
       "        ;\n",
       "\n",
       "        \n",
       "    \n",
       "&lt;/script&gt;\n",
       "&lt;/html&gt;\" style=\"position:absolute;width:100%;height:100%;left:0;top:0;border:none !important;\" allowfullscreen webkitallowfullscreen mozallowfullscreen></iframe></div></div>"
      ],
      "text/plain": [
       "<folium.folium.Map at 0x22169213100>"
      ]
     },
     "metadata": {},
     "output_type": "display_data"
    }
   ],
   "source": [
    "import folium\n",
    "from IPython.display import display\n",
    "\n",
    "map_center = (35.6762,139.6503)\n",
    "mymap = folium.Map(location=map_center, zoom_start=16)\n",
    "\n",
    "folium.Marker(\n",
    "    map_center,\n",
    "    popup = \"Tokoyo\",\n",
    "    icon = folium.Icon(color=\"blue\",icon=\"info-sing\")\n",
    ").add_to(mymap)\n",
    "\n",
    "display(mymap)"
   ]
  },
  {
   "cell_type": "code",
   "execution_count": 7,
   "metadata": {},
   "outputs": [
    {
     "name": "stdout",
     "output_type": "stream",
     "text": [
      "A\n",
      "1\n"
     ]
    }
   ],
   "source": [
    "import random   \n",
    "puertas = [\"A\",\"B\",\"C\"]\n",
    "choice = random.choice(puertas)\n",
    "eleccion = puertas.index(choice) + 1\n",
    "print(choice)\n",
    "print(eleccion)"
   ]
  },
  {
   "cell_type": "code",
   "execution_count": 18,
   "metadata": {},
   "outputs": [
    {
     "name": "stdout",
     "output_type": "stream",
     "text": [
      "300\n",
      "False\n"
     ]
    }
   ],
   "source": [
    "def starter():\n",
    "    counter(count=5*60, stop=False)\n",
    "    \n",
    "def counter(count, stop):\n",
    "    print(count)\n",
    "    print(stop)\n",
    "    \n",
    "starter()\n",
    "    "
   ]
  }
 ],
 "metadata": {
  "kernelspec": {
   "display_name": "Python 3",
   "language": "python",
   "name": "python3"
  },
  "language_info": {
   "codemirror_mode": {
    "name": "ipython",
    "version": 3
   },
   "file_extension": ".py",
   "mimetype": "text/x-python",
   "name": "python",
   "nbconvert_exporter": "python",
   "pygments_lexer": "ipython3",
   "version": "3.10.10"
  }
 },
 "nbformat": 4,
 "nbformat_minor": 2
}
