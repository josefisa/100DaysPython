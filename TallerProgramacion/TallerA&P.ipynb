{
 "cells": [
  {
   "cell_type": "code",
   "execution_count": 34,
   "metadata": {},
   "outputs": [
    {
     "data": {
      "text/plain": [
       "4"
      ]
     },
     "execution_count": 34,
     "metadata": {},
     "output_type": "execute_result"
    }
   ],
   "source": [
    "#Usando count() obtener de la tupla la cantidad de datos de valor 2\n",
    "tup = 1, 2, 3, 2, 4, 5, 6, 2, 7, 2, 8, 9\n",
    "tup.count(2)"
   ]
  },
  {
   "cell_type": "code",
   "execution_count": 16,
   "metadata": {},
   "outputs": [
    {
     "name": "stdout",
     "output_type": "stream",
     "text": [
      "{'Adam Smith': 'A', 'Judy Paxton': 'B+', 'Mary Louis': 'A', 'Patrick White': 'C'}\n",
      "{'Adam Smith': 'A', 'Judy Paxton': 'B+', 'Mary Louis': 'A', 'Patrick White': 'C'}\n",
      "{'Adam Smith': 'A', 'Judy Paxton': 'B+', 'Mary Louis': 'A', 'Patrick White': 'C'}\n"
     ]
    }
   ],
   "source": [
    "#Escribir un programa que una los dos diccionarios 'd1' y 'd2'\n",
    "d1 = {'Adam Smith':'A', 'Judy Paxton':'B+'}\n",
    "d2 = {'Mary Louis':'A', 'Patrick White':'C'}\n",
    "d3 = (d1|d2); print(d3)\n",
    "# O también:\n",
    "d1.update(d2); d3=d1\n",
    "print(d3)\n",
    "#O tambien\n",
    "d3 = {**d1,**d2}\n",
    "print(d3)"
   ]
  },
  {
   "cell_type": "code",
   "execution_count": 17,
   "metadata": {},
   "outputs": [
    {
     "data": {
      "text/plain": [
       "('carro', 'Ford', 'flor', 'Tulipán')"
      ]
     },
     "execution_count": 17,
     "metadata": {},
     "output_type": "execute_result"
    }
   ],
   "source": [
    "#Convertir de lista a tupla\n",
    "l = [\"carro\", \"Ford\", \"flor\", \"Tulipán\"]\n",
    "tuple(l)"
   ]
  },
  {
   "cell_type": "code",
   "execution_count": 19,
   "metadata": {},
   "outputs": [
    {
     "name": "stdout",
     "output_type": "stream",
     "text": [
      "{'verde': '#008000', 'azul': '#0000FF'}\n"
     ]
    }
   ],
   "source": [
    "#Convertir la tupla en diccionario\n",
    "colores = ((\"verde\", \"#008000\"), (\"azul\", \"#0000FF\"))\n",
    "diccionario = dict((x,y) for x, y in colores)\n",
    "print(diccionario)"
   ]
  },
  {
   "cell_type": "code",
   "execution_count": 26,
   "metadata": {},
   "outputs": [
    {
     "name": "stdout",
     "output_type": "stream",
     "text": [
      " El Mago te ha atrapado tienes que adivinar el número para salir\n",
      "¡Estas atrapado en mi ciclo!\n",
      "¡Estas atrapado en mi ciclo!\n",
      "sali\n"
     ]
    }
   ],
   "source": [
    "import random\n",
    "#Adivinar numero del mago.\n",
    "print(\" El Mago te ha atrapado tienes que adivinar el número para salir\")\n",
    "numerosecreto = random.randint(0,9)\n",
    "NumUsuario = int(input(\"Ingresa un número: \"))\n",
    "while(NumUsuario != numerosecreto):\n",
    "    print('¡Estas atrapado en mi ciclo!')\n",
    "    NumUsuario = int(input(\"Adivina de nuevo, ingresa un número: \"))\n",
    "print(\"¡Eres libre ahora!\")\n"
   ]
  },
  {
   "cell_type": "code",
   "execution_count": 33,
   "metadata": {},
   "outputs": [
    {
     "name": "stdout",
     "output_type": "stream",
     "text": [
      "Ingresa un palabra en el menú\n",
      "Aqui la tienes sin vocales\n",
      "MNLT\n"
     ]
    }
   ],
   "source": [
    "#EL COMEVOCALES\n",
    "print(\"Ingresa un palabra en el menú\")\n",
    "palabra = input(\"Ingrese una palabra: \").upper()\n",
    "arreglo = \"\"\n",
    "vocal = \"AEIOU\"\n",
    "for i in palabra:\n",
    "    if i in vocal:\n",
    "        continue\n",
    "    else:\n",
    "        arreglo += i\n",
    "print(\"Aqui la tienes sin vocales\\n\"+arreglo)"
   ]
  }
 ],
 "metadata": {
  "kernelspec": {
   "display_name": "Python 3",
   "language": "python",
   "name": "python3"
  },
  "language_info": {
   "codemirror_mode": {
    "name": "ipython",
    "version": 3
   },
   "file_extension": ".py",
   "mimetype": "text/x-python",
   "name": "python",
   "nbconvert_exporter": "python",
   "pygments_lexer": "ipython3",
   "version": "3.10.10"
  }
 },
 "nbformat": 4,
 "nbformat_minor": 2
}
